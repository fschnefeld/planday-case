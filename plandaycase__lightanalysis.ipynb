{
 "cells": [
  {
   "cell_type": "code",
   "execution_count": 28,
   "metadata": {},
   "outputs": [
    {
     "name": "stdout",
     "output_type": "stream",
     "text": [
      "                      organization_id trial_activation\n",
      "0    0021ac0e558f8f7047388e7523afd327             None\n",
      "1    0036e85dfef040accb2c0bbb0ff43fda             None\n",
      "2    0040dd9ab132b92d5d04bc3acf14d2e2    shift_created\n",
      "3    00456fd86311b6095ad05f7e31758f0d             None\n",
      "4    0059a7e6d21805f9ebc6d58b5aa6042f    shift_created\n",
      "..                                ...              ...\n",
      "926  48d7c381ede883bfd6dfeeb78a9f0e51    shift_created\n",
      "927  48f094fd67ff1c3c93274432dc37810d    shift_created\n",
      "928  48f1931ef3f3b3439b1091a83e2a1bf5    shift_created\n",
      "929  4901a4efd238312a93a28cf9ec462eae             None\n",
      "930  4914791cbad9bfc77471afef44a9c928    shift_created\n",
      "\n",
      "[931 rows x 2 columns]\n"
     ]
    }
   ],
   "source": [
    "### Creating an in-memory SQLite database and loading the data in order to recreate the transformations in the sql files\n",
    "### Then performing basic descriptive analysis on the data\n",
    "\n",
    "from sqlalchemy import create_engine, text\n",
    "import pandas as pd\n",
    "\n",
    "# Step 1: Load the data\n",
    "data = pd.read_csv('analytics_engineering_task.csv')\n",
    "\n",
    "# Step 2: Create an in-memory SQLite database\n",
    "engine = create_engine('sqlite:///:memory:')\n",
    "connection = engine.connect()\n",
    "\n",
    "# Load the CSV data into a SQL table called 'staging_events'\n",
    "data.to_sql('staging_events', con=engine, index=False, if_exists='replace')\n",
    "\n",
    "# Step 3: Define and execute the first transformation (trial_goals)\n",
    "sql_trials_query = text(\"\"\"\n",
    "WITH trial_goals AS (\n",
    "    SELECT \n",
    "        organization_id,\n",
    "        -- goal 1: at least 2 shifts created\n",
    "        CASE WHEN SUM(CASE WHEN activity_name = 'Shift.Created' THEN 1 ELSE 0 END) >= 2 THEN 1 ELSE 0 END AS shift_created,\n",
    "        \n",
    "        -- goal 2: at least 1 employee invited\n",
    "        CASE WHEN SUM(CASE WHEN activity_name = 'Employee.Invited' THEN 1 ELSE 0 END) >= 1 THEN 1 ELSE 0 END AS employee_invited,\n",
    "        \n",
    "        -- goal 3: at least 1 punch-in\n",
    "        CASE WHEN SUM(CASE WHEN activity_name = 'Punch.In' THEN 1 ELSE 0 END) >= 1 THEN 1 ELSE 0 END AS punch_in,\n",
    "        \n",
    "        -- goal 4: at least 1 punch-in approved\n",
    "        CASE WHEN SUM(CASE WHEN activity_name = 'Punch.In.Approved' THEN 1 ELSE 0 END) >= 1 THEN 1 ELSE 0 END AS punch_in_approved,\n",
    "        \n",
    "        -- goal 5: at least 2 advanced features viewed\n",
    "        CASE WHEN SUM(CASE WHEN activity_name = 'Page.Viewed' AND activity_detail IN ('revenue-overview', 'integrations-overview', 'absence-overview', 'availability-overview') THEN 1 ELSE 0 END) >= 2 THEN 1 ELSE 0 END AS advanced_features_viewed\n",
    "    FROM staging_events\n",
    "    GROUP BY organization_id\n",
    ")\n",
    "SELECT * FROM trial_goals\n",
    "\"\"\")\n",
    "\n",
    "# Execute the first query and store the result\n",
    "df_trials = pd.read_sql_query(sql_trials_query, connection)\n",
    "\n",
    "# Step 4: Define the second query that references the trial_goals transformation\n",
    "sql_goals_query = text(\"\"\"\n",
    "WITH trial_goals AS (\n",
    "    SELECT * FROM (\n",
    "        SELECT \n",
    "            organization_id,\n",
    "            CASE WHEN SUM(CASE WHEN activity_name = 'Shift.Created' THEN 1 ELSE 0 END) >= 2 THEN 1 ELSE 0 END AS shift_created,\n",
    "            CASE WHEN SUM(CASE WHEN activity_name = 'Employee.Invited' THEN 1 ELSE 0 END) >= 1 THEN 1 ELSE 0 END AS employee_invited,\n",
    "            CASE WHEN SUM(CASE WHEN activity_name = 'Punch.In' THEN 1 ELSE 0 END) >= 1 THEN 1 ELSE 0 END AS punch_in,\n",
    "            CASE WHEN SUM(CASE WHEN activity_name = 'Punch.In.Approved' THEN 1 ELSE 0 END) >= 1 THEN 1 ELSE 0 END AS punch_in_approved,\n",
    "            CASE WHEN SUM(CASE WHEN activity_name = 'Page.Viewed' AND activity_detail IN ('revenue-overview', 'integrations-overview', 'absence-overview', 'availability-overview') THEN 1 ELSE 0 END) >= 2 THEN 1 ELSE 0 END AS advanced_features_viewed\n",
    "        FROM staging_events\n",
    "        GROUP BY organization_id\n",
    "    )\n",
    ")\n",
    "SELECT\n",
    "    organization_id,\n",
    "    CASE \n",
    "        WHEN shift_created = 1 THEN 'shift_created'\n",
    "        WHEN employee_invited = 1 THEN 'employee_invited'\n",
    "        WHEN punch_in = 1 THEN 'punch_in'\n",
    "        WHEN punch_in_approved = 1 THEN 'punch_in_approved'\n",
    "        WHEN advanced_features_viewed = 1 THEN 'advanced_features_viewed'\n",
    "    END AS trial_activation\n",
    "FROM trial_goals\n",
    "\"\"\")\n",
    "\n",
    "# Execute the second query\n",
    "df_goals = pd.read_sql_query(sql_goals_query, connection)\n",
    "\n",
    "# Step 5: Display the result\n",
    "print(df_goals)\n",
    "\n",
    "# Close the connection\n",
    "connection.close()\n"
   ]
  },
  {
   "cell_type": "markdown",
   "metadata": {},
   "source": []
  },
  {
   "cell_type": "code",
   "execution_count": 29,
   "metadata": {},
   "outputs": [
    {
     "data": {
      "text/html": [
       "<div>\n",
       "<style scoped>\n",
       "    .dataframe tbody tr th:only-of-type {\n",
       "        vertical-align: middle;\n",
       "    }\n",
       "\n",
       "    .dataframe tbody tr th {\n",
       "        vertical-align: top;\n",
       "    }\n",
       "\n",
       "    .dataframe thead th {\n",
       "        text-align: right;\n",
       "    }\n",
       "</style>\n",
       "<table border=\"1\" class=\"dataframe\">\n",
       "  <thead>\n",
       "    <tr style=\"text-align: right;\">\n",
       "      <th></th>\n",
       "      <th>organization_id</th>\n",
       "      <th>trial_activation</th>\n",
       "    </tr>\n",
       "  </thead>\n",
       "  <tbody>\n",
       "    <tr>\n",
       "      <th>0</th>\n",
       "      <td>0021ac0e558f8f7047388e7523afd327</td>\n",
       "      <td>None</td>\n",
       "    </tr>\n",
       "    <tr>\n",
       "      <th>1</th>\n",
       "      <td>0036e85dfef040accb2c0bbb0ff43fda</td>\n",
       "      <td>None</td>\n",
       "    </tr>\n",
       "    <tr>\n",
       "      <th>2</th>\n",
       "      <td>0040dd9ab132b92d5d04bc3acf14d2e2</td>\n",
       "      <td>shift_created</td>\n",
       "    </tr>\n",
       "    <tr>\n",
       "      <th>3</th>\n",
       "      <td>00456fd86311b6095ad05f7e31758f0d</td>\n",
       "      <td>None</td>\n",
       "    </tr>\n",
       "    <tr>\n",
       "      <th>4</th>\n",
       "      <td>0059a7e6d21805f9ebc6d58b5aa6042f</td>\n",
       "      <td>shift_created</td>\n",
       "    </tr>\n",
       "  </tbody>\n",
       "</table>\n",
       "</div>"
      ],
      "text/plain": [
       "                    organization_id trial_activation\n",
       "0  0021ac0e558f8f7047388e7523afd327             None\n",
       "1  0036e85dfef040accb2c0bbb0ff43fda             None\n",
       "2  0040dd9ab132b92d5d04bc3acf14d2e2    shift_created\n",
       "3  00456fd86311b6095ad05f7e31758f0d             None\n",
       "4  0059a7e6d21805f9ebc6d58b5aa6042f    shift_created"
      ]
     },
     "execution_count": 29,
     "metadata": {},
     "output_type": "execute_result"
    }
   ],
   "source": [
    "df_goals.head()\n"
   ]
  },
  {
   "cell_type": "code",
   "execution_count": 30,
   "metadata": {},
   "outputs": [
    {
     "name": "stdout",
     "output_type": "stream",
     "text": [
      "Total Organizations: 931\n",
      "Activated Organizations: 628\n",
      "Activation Rate: 67.45%\n",
      "\n",
      "Completion Rates per Goal:\n",
      "shift_created               98.248408\n",
      "advanced_features_viewed     1.751592\n",
      "Name: trial_activation, dtype: float64\n",
      "\n",
      "Number of Organizations that Failed to Complete Any Goal: 303\n"
     ]
    }
   ],
   "source": [
    "# Basic Descriptive Analysis for Product Metrics\n",
    "\n",
    "# 1. Total number of organizations\n",
    "total_organizations = df_goals['organization_id'].nunique()\n",
    "\n",
    "# 2. Number of organizations that achieved trial activation (i.e., completed at least one trial goal)\n",
    "trial_activation_counts = df_goals['trial_activation'].value_counts()\n",
    "\n",
    "# 3. Trial Activation Rate (percentage of organizations that completed any goal)\n",
    "activated_organizations = len(df_goals[df_goals['trial_activation'].notnull()])\n",
    "activation_rate = (activated_organizations / total_organizations) * 100\n",
    "\n",
    "# 4. Completion Rate for each goal (e.g., 'shift_created', 'employee_invited', etc.)\n",
    "completion_rates = df_goals['trial_activation'].value_counts(normalize=True) * 100\n",
    "\n",
    "# 5. Drop-off Points: Analyze where most organizations fail\n",
    "# Here we consider organizations that did not complete certain goals\n",
    "drop_off_points = df_goals['trial_activation'].isnull().sum()\n",
    "\n",
    "# 6. Display the basic metrics\n",
    "print(f\"Total Organizations: {total_organizations}\")\n",
    "print(f\"Activated Organizations: {activated_organizations}\")\n",
    "print(f\"Activation Rate: {activation_rate:.2f}%\")\n",
    "\n",
    "print(\"\\nCompletion Rates per Goal:\")\n",
    "print(completion_rates)\n",
    "\n",
    "print(f\"\\nNumber of Organizations that Failed to Complete Any Goal: {drop_off_points}\")\n"
   ]
  },
  {
   "cell_type": "code",
   "execution_count": 33,
   "metadata": {},
   "outputs": [
    {
     "data": {
      "image/png": "[encoded data removed]",
      "text/plain": [
       "<Figure size 640x480 with 1 Axes>"
      ]
     },
     "metadata": {},
     "output_type": "display_data"
    },
    {
     "data": {
      "image/png": "[encoded data removed]",
      "text/plain": [
       "<Figure size 640x480 with 1 Axes>"
      ]
     },
     "metadata": {},
     "output_type": "display_data"
    }
   ],
   "source": [
    "import matplotlib.pyplot as plt\n",
    "\n",
    "# Plot completion rates for each goal\n",
    "completion_rates.plot(kind='bar', title='Goal Completion Rates', color='skyblue')\n",
    "plt.ylabel('Completion Rate (%)')\n",
    "plt.show()\n",
    "\n",
    "# Pie chart for trial activation distribution\n",
    "trial_activation_counts.plot(kind='pie', autopct='%1.1f%%', title='Trial Activation Distribution')\n",
    "plt.ylabel('')\n",
    "plt.show()\n"
   ]
  },
  {
   "cell_type": "code",
   "execution_count": null,
   "metadata": {},
   "outputs": [],
   "source": []
  }
 ],
 "metadata": {
  "kernelspec": {
   "display_name": "base",
   "language": "python",
   "name": "python3"
  },
  "language_info": {
   "codemirror_mode": {
    "name": "ipython",
    "version": 3
   },
   "file_extension": ".py",
   "mimetype": "text/x-python",
   "name": "python",
   "nbconvert_exporter": "python",
   "pygments_lexer": "ipython3",
   "version": "3.10.8"
  }
 },
 "nbformat": 4,
 "nbformat_minor": 2
}
